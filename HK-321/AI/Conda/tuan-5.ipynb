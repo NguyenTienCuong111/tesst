{
 "cells": [
  {
   "cell_type": "code",
   "execution_count": 37,
   "id": "a240c4e6",
   "metadata": {},
   "outputs": [
    {
     "data": {
      "text/html": [
       "<div>\n",
       "<style scoped>\n",
       "    .dataframe tbody tr th:only-of-type {\n",
       "        vertical-align: middle;\n",
       "    }\n",
       "\n",
       "    .dataframe tbody tr th {\n",
       "        vertical-align: top;\n",
       "    }\n",
       "\n",
       "    .dataframe thead th {\n",
       "        text-align: right;\n",
       "    }\n",
       "</style>\n",
       "<table border=\"1\" class=\"dataframe\">\n",
       "  <thead>\n",
       "    <tr style=\"text-align: right;\">\n",
       "      <th></th>\n",
       "      <th>Gender</th>\n",
       "      <th>Height</th>\n",
       "      <th>Weight</th>\n",
       "    </tr>\n",
       "  </thead>\n",
       "  <tbody>\n",
       "    <tr>\n",
       "      <th>0</th>\n",
       "      <td>Male</td>\n",
       "      <td>174.920406</td>\n",
       "      <td>86.357347</td>\n",
       "    </tr>\n",
       "    <tr>\n",
       "      <th>1</th>\n",
       "      <td>Male</td>\n",
       "      <td>174.572238</td>\n",
       "      <td>85.429263</td>\n",
       "    </tr>\n",
       "    <tr>\n",
       "      <th>2</th>\n",
       "      <td>Male</td>\n",
       "      <td>169.666258</td>\n",
       "      <td>78.258303</td>\n",
       "    </tr>\n",
       "    <tr>\n",
       "      <th>3</th>\n",
       "      <td>Male</td>\n",
       "      <td>158.324709</td>\n",
       "      <td>63.713066</td>\n",
       "    </tr>\n",
       "    <tr>\n",
       "      <th>4</th>\n",
       "      <td>Male</td>\n",
       "      <td>185.948384</td>\n",
       "      <td>100.597389</td>\n",
       "    </tr>\n",
       "    <tr>\n",
       "      <th>5</th>\n",
       "      <td>Male</td>\n",
       "      <td>175.951965</td>\n",
       "      <td>78.366200</td>\n",
       "    </tr>\n",
       "    <tr>\n",
       "      <th>6</th>\n",
       "      <td>Male</td>\n",
       "      <td>175.065467</td>\n",
       "      <td>89.028832</td>\n",
       "    </tr>\n",
       "    <tr>\n",
       "      <th>7</th>\n",
       "      <td>Male</td>\n",
       "      <td>168.436926</td>\n",
       "      <td>74.147216</td>\n",
       "    </tr>\n",
       "    <tr>\n",
       "      <th>8</th>\n",
       "      <td>Male</td>\n",
       "      <td>180.110032</td>\n",
       "      <td>91.334723</td>\n",
       "    </tr>\n",
       "    <tr>\n",
       "      <th>9</th>\n",
       "      <td>Male</td>\n",
       "      <td>187.045698</td>\n",
       "      <td>90.216935</td>\n",
       "    </tr>\n",
       "  </tbody>\n",
       "</table>\n",
       "</div>"
      ],
      "text/plain": [
       "  Gender      Height      Weight\n",
       "0   Male  174.920406   86.357347\n",
       "1   Male  174.572238   85.429263\n",
       "2   Male  169.666258   78.258303\n",
       "3   Male  158.324709   63.713066\n",
       "4   Male  185.948384  100.597389\n",
       "5   Male  175.951965   78.366200\n",
       "6   Male  175.065467   89.028832\n",
       "7   Male  168.436926   74.147216\n",
       "8   Male  180.110032   91.334723\n",
       "9   Male  187.045698   90.216935"
      ]
     },
     "execution_count": 37,
     "metadata": {},
     "output_type": "execute_result"
    }
   ],
   "source": [
    "# cau 1:\n",
    "import pandas as pd\n",
    "import matplotlib.pyplot as plt\n",
    "import random\n",
    "import numpy as np\n",
    "\n",
    "wh = pd.read_csv('weight-height-1.csv')\n",
    "wh.shape\n",
    "wh['Height'] = wh['Height'].apply(lambda wh:wh/0.39370079)\n",
    "wh['Weight'] = wh['Weight'].apply(lambda wh:wh*0.45359237)\n",
    "wh.head(10)"
   ]
  },
  {
   "cell_type": "code",
   "execution_count": 38,
   "id": "1b7923f1",
   "metadata": {},
   "outputs": [
    {
     "name": "stdout",
     "output_type": "stream",
     "text": [
      "x [174.92040645 174.57223845 169.6662581  158.32470852 185.94838435\n",
      " 175.9519648  175.06546668 168.43692604 180.11003231 187.04569784\n",
      " 185.06348193 178.37172689 171.80633574 165.25554908 177.02927841\n",
      " 183.60781332 185.25430797 178.88951027 187.63968501 167.27434816\n",
      " 171.39863382 168.67618118 175.56429792 188.76519906 176.54513718\n",
      " 179.44756189 173.01252127 180.03931256 181.53172862 172.25537139\n",
      " 179.23393421 175.38942273 166.5066433  177.17570135 169.287126\n",
      " 173.15656235 186.28148487 156.13473665 175.29123894 177.47615627\n",
      " 183.68299486 174.40184517 184.86990086 174.32770785 175.05579178\n",
      " 180.18753163 186.1167896  168.63645737 171.17909788 187.88958492\n",
      " 177.6916468  167.6421691  167.24710251 167.49603013 166.1540799\n",
      " 169.58868023 144.85329693 154.28637436 160.79487794 157.9501103\n",
      " 165.95575918 159.88791958 150.89036042 160.87031784 169.67827538\n",
      " 148.21154674 164.9758255  152.56038504 168.51389905 170.8673606\n",
      " 167.63034242 169.64810233 166.48387424 170.63280537 149.23132136\n",
      " 157.8797344  160.23631131 166.2306663  160.45569717 160.94946813\n",
      " 158.18961263 151.16728166 174.10289911 159.90811071 158.38325119\n",
      " 161.65937254 173.37937642 163.00134397 164.54226582 160.36303118\n",
      " 155.13103308 152.14994554 161.55928832 157.350822   168.38042267\n",
      " 157.93516789 153.52914788 157.26456562 169.22634113]\n",
      "y [ 86.35734716  85.42926285  78.25830313  63.71306597 100.59738858\n",
      "  78.36620036  89.02883207  74.14721604  91.3347228   90.21693484\n",
      "  91.16820007  89.3346207   84.79241668  71.2277874   82.19394912\n",
      "  85.81068792  95.27927997  89.23388211  98.71307266  76.96385996\n",
      "  83.55602418  82.50927508  79.18126411 104.12914921  87.47170777\n",
      "  90.67047001  77.76973727  86.49032152  89.54670306  83.31524514\n",
      "  87.68898129  82.28649278  74.62304401  87.75197133  78.16190711\n",
      "  88.44606478  92.10861747  58.38824673  80.31207031  81.49465438\n",
      "  92.52753099  80.77838026  91.0962222   84.15863008  88.12322289\n",
      "  90.55892648 100.43944533  85.36245341  78.52929518  91.26509886\n",
      "  86.86090972  72.09687301  66.66255576  68.02250563  56.14509814\n",
      "  71.21709266  45.9047049   55.65047581  54.90579252  59.98626205\n",
      "  59.87801127  64.55847309  50.7358781   68.8968786   66.97517493\n",
      "  49.95056745  69.39940233  46.67467595  73.18247578  65.33503862\n",
      "  68.2928566   58.70371013  67.12857059  75.56911324  48.46454914\n",
      "  59.87474056  56.62187825  62.22388644  64.7492919   70.11035321\n",
      "  50.54905046  49.63262416  67.50732023  59.38305841  58.74706934\n",
      "  66.76493094  78.98967347  56.99289272  62.56067585  55.12882194\n",
      "  54.66508666  52.84506645  66.50618947  56.53984252  63.64781494\n",
      "  61.66910566  52.36292903  56.22670281  67.96088006]\n"
     ]
    }
   ],
   "source": [
    "# cau 2:\n",
    "x=wh['Height'].values\n",
    "y=wh['Weight'].values\n",
    "print('x',x)\n",
    "print('y',y)"
   ]
  },
  {
   "cell_type": "code",
   "execution_count": 39,
   "id": "c9f6ed84",
   "metadata": {},
   "outputs": [
    {
     "data": {
      "image/png": "[encoded data removed]",
      "text/plain": [
       "<Figure size 432x288 with 1 Axes>"
      ]
     },
     "metadata": {
      "needs_background": "light"
     },
     "output_type": "display_data"
    }
   ],
   "source": [
    "y_pred = reg.intercept_ + reg.coef_[0]*x\n",
    "plt.scatter(x, y)\n",
    "plt.plot(x, y_pred, color = \"b\")\n",
    "plt.plot(x, y_pred, color = \"b\")\n",
    "plt.xlabel('x')\n",
    "plt.ylabel('y')\n",
    "plt.show()"
   ]
  },
  {
   "cell_type": "code",
   "execution_count": 40,
   "id": "1f649796",
   "metadata": {},
   "outputs": [],
   "source": [
    "# cau 4\n",
    "def grad1(x,y,w1,w0):\n",
    "    n=len(x)\n",
    "    a=0\n",
    "    for i in range(n):\n",
    "        a = a + -2*x[i]*(y[i]-(w0+w1*x[i]))\n",
    "    return a/n\n",
    "def grad2(x,y,w1,w0):\n",
    "    n=len(x)\n",
    "    b=0\n",
    "    for i in range(n):\n",
    "        b = b + -2*(y[i]-(w0+w1*x[i]))\n",
    "    return b/n\n",
    "def loss(x,y,w1,w0):\n",
    "    n=len(x)\n",
    "    l=0\n",
    "    for i in range(n):\n",
    "        l = l + (y[i]-(w0+w1*x[i]))**2\n",
    "    return l/n"
   ]
  },
  {
   "cell_type": "code",
   "execution_count": 52,
   "id": "fb87a552",
   "metadata": {},
   "outputs": [
    {
     "name": "stdout",
     "output_type": "stream",
     "text": [
      "Minima at w1 = 0.996,w0 = -0.948, loss = 0.004, obtained after 999 iterations\n"
     ]
    }
   ],
   "source": [
    "# cau 5\n",
    "def gradient_descent(x,y,alpha, w1, w0, iteration, tolerance):\n",
    "    w_1 = [w1]\n",
    "    w_0 = [w0]\n",
    "    for it in range(iteration):\n",
    "        w1_new = w_1[-1] - alpha*grad1(x,y,w_1[-1],w_0[-1])\n",
    "        w0_new = w_0[-1] - alpha*grad2(x,y,w_1[-1],w_0[-1])\n",
    "        if abs(grad1(x,y,w1_new,w0_new))< tolerance:\n",
    "            break\n",
    "        w_1.append(w1_new)\n",
    "        w_0.append(w0_new) \n",
    "        loss_nub=loss(X,Y,w1_new,w0_new)\n",
    "    return w1_new, w0_new,it,w_1,w_0,loss_nub\n",
    "alpha = 0.1\n",
    "tolerance = 0.0001\n",
    "w_1 = 0\n",
    "w_0 = -1\n",
    "iteration = 1000\n",
    "w1, w0 ,iteration_number,w1_list,w0_list,loss_nub = gradient_descent(X,Y,alpha, w_1, w_0,iteration,tolerance)\n",
    "print('Minima at w1 = {:.3f},w0 = {:.3f}, loss = {:.3f}, obtained after {:d} iterations'\\\n",
    ".format(w1[-1],w0[-1], loss_nub[-1], iteration_number))\n"
   ]
  },
  {
   "cell_type": "code",
   "execution_count": null,
   "id": "503a838d",
   "metadata": {},
   "outputs": [],
   "source": []
  }
 ],
 "metadata": {
  "kernelspec": {
   "display_name": "Python 3 (ipykernel)",
   "language": "python",
   "name": "python3"
  },
  "language_info": {
   "codemirror_mode": {
    "name": "ipython",
    "version": 3
   },
   "file_extension": ".py",
   "mimetype": "text/x-python",
   "name": "python",
   "nbconvert_exporter": "python",
   "pygments_lexer": "ipython3",
   "version": "3.7.11"
  }
 },
 "nbformat": 4,
 "nbformat_minor": 5
}
